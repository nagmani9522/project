{
 "cells": [
  {
   "cell_type": "code",
   "execution_count": 2,
   "metadata": {},
   "outputs": [
    {
     "name": "stdout",
     "output_type": "stream",
     "text": [
      "Enter your first number: 12\n",
      "Enter second number: 23\n",
      "Addition 35\n"
     ]
    }
   ],
   "source": [
    "n1=int(input(\"Enter your first number: \"))\n",
    "n2=int(input(\"Enter second number: \"))\n",
    "s=n1+n2\n",
    "print(\"Addition\",s)"
   ]
  },
  {
   "cell_type": "code",
   "execution_count": 7,
   "metadata": {},
   "outputs": [
    {
     "name": "stdout",
     "output_type": "stream",
     "text": [
      "Enter your name :er\n",
      "enter your Age: 76\n",
      "enter Your weight: 76\n"
     ]
    }
   ],
   "source": [
    "n=input(\"Enter your name :\")\n",
    "n=int(input(\"enter your Age: \"))\n",
    "w=float(input(\"enter Your weight: \"))"
   ]
  },
  {
   "cell_type": "code",
   "execution_count": 16,
   "metadata": {},
   "outputs": [
    {
     "name": "stdout",
     "output_type": "stream",
     "text": [
      "Entter the number 7\n",
      "0.14285714285714285\n"
     ]
    }
   ],
   "source": [
    "n=float(input(\"Entter the number \"))\n",
    "n=1/n\n",
    "print(n)"
   ]
  },
  {
   "cell_type": "code",
   "execution_count": 17,
   "metadata": {},
   "outputs": [
    {
     "name": "stdout",
     "output_type": "stream",
     "text": [
      "Length of rectunglar: 2\n",
      "breadth of rectunglar6\n",
      "Area =  12.0\n"
     ]
    }
   ],
   "source": [
    "l=float(input(\"Length of rectunglar: \"))\n",
    "b=float(input(\"breadth of rectunglar\"))\n",
    "A=l*b\n",
    "print(\"Area = \",A)"
   ]
  },
  {
   "cell_type": "code",
   "execution_count": 1,
   "metadata": {},
   "outputs": [
    {
     "name": "stdout",
     "output_type": "stream",
     "text": [
      "Radius of Circle: 4\n",
      "Area =  50.24\n"
     ]
    }
   ],
   "source": [
    "r=float(input(\"Radius of Circle: \"))\n",
    "A=3.14*2**r\n",
    "print(\"Area = \",A)"
   ]
  },
  {
   "cell_type": "code",
   "execution_count": 2,
   "metadata": {},
   "outputs": [
    {
     "name": "stdout",
     "output_type": "stream",
     "text": [
      "Enter the Principle1000\n",
      "Enter the Rate2\n",
      "Enter the Time2.5\n",
      "Simple Interest =  50.0\n"
     ]
    }
   ],
   "source": [
    "p=float(input(\"Enter the Principle\"))\n",
    "r=float(input(\"Enter the Rate\"))\n",
    "t=float(input(\"Enter the Time\"))\n",
    "si=(p*r*t/100)\n",
    "print(\"Simple Interest = \",si)"
   ]
  },
  {
   "cell_type": "code",
   "execution_count": 5,
   "metadata": {},
   "outputs": [
    {
     "name": "stdout",
     "output_type": "stream",
     "text": [
      "Marks of subject 1 = 23\n",
      "Marks of subject 2 = 45\n",
      "Marks of subject 3 = 98\n",
      "Total marks 166.0\n",
      "Percentage 55.333333333333336\n"
     ]
    }
   ],
   "source": [
    "m1=float(input(\"Marks of subject 1 = \"))\n",
    "m2=float(input(\"Marks of subject 2 = \"))\n",
    "m3=float(input(\"Marks of subject 3 = \"))\n",
    "total=m1+m2+m3\n",
    "p=(total/300)*100\n",
    "print(\"Total marks\",total)\n",
    "print(\"Percentage\",p)"
   ]
  },
  {
   "cell_type": "code",
   "execution_count": null,
   "metadata": {},
   "outputs": [],
   "source": []
  }
 ],
 "metadata": {
  "kernelspec": {
   "display_name": "Python 3",
   "language": "python",
   "name": "python3"
  },
  "language_info": {
   "codemirror_mode": {
    "name": "ipython",
    "version": 3
   },
   "file_extension": ".py",
   "mimetype": "text/x-python",
   "name": "python",
   "nbconvert_exporter": "python",
   "pygments_lexer": "ipython3",
   "version": "3.8.5"
  }
 },
 "nbformat": 4,
 "nbformat_minor": 4
}
