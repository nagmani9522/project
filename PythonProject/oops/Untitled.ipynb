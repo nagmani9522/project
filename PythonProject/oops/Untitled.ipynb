{
 "cells": [
  {
   "cell_type": "code",
   "execution_count": 3,
   "metadata": {},
   "outputs": [
    {
     "name": "stdout",
     "output_type": "stream",
     "text": [
      "Enter name Nagmani Kumar\n",
      "Enter age 23\n",
      "Enter name Mukesh Khana\n",
      "Enter age 78\n",
      "Name =  Nagmani Kumar\n",
      "Age = 23\n",
      "Name =  Mukesh Khana age =  78\n"
     ]
    }
   ],
   "source": [
    "class Person:\n",
    "    pass\n",
    "p1=Person()\n",
    "p2=Person()\n",
    "p1.name=input(\"Enter name \")\n",
    "p1.age=int(input(\"Enter age \"))\n",
    "p2.name=input(\"Enter name \")\n",
    "p2.age=int(input(\"Enter age \"))\n",
    "print(\"Name = \",p1.name)\n",
    "print(\"Age =\",p1.age)\n",
    "print(\"Name = \",p2.name,\"age = \",p2.age)"
   ]
  }
 ],
 "metadata": {
  "kernelspec": {
   "display_name": "Python 3",
   "language": "python",
   "name": "python3"
  },
  "language_info": {
   "codemirror_mode": {
    "name": "ipython",
    "version": 3
   },
   "file_extension": ".py",
   "mimetype": "text/x-python",
   "name": "python",
   "nbconvert_exporter": "python",
   "pygments_lexer": "ipython3",
   "version": "3.8.5"
  }
 },
 "nbformat": 4,
 "nbformat_minor": 4
}
