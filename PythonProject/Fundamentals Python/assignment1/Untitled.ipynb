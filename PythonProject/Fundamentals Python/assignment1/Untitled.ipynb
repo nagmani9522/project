{
 "cells": [
  {
   "cell_type": "code",
   "execution_count": 3,
   "metadata": {},
   "outputs": [
    {
     "name": "stdout",
     "output_type": "stream",
     "text": [
      "Enter the value of n >0 : 8\n",
      "1 2 3 4 5 6 7 8 "
     ]
    }
   ],
   "source": [
    "def number(n):\n",
    "    for i in range(1,n+1):\n",
    "        print(i,end=\" \")\n",
    "number(n=int(input(\"Enter the value of n >0 : \")))"
   ]
  },
  {
   "cell_type": "code",
   "execution_count": 3,
   "metadata": {},
   "outputs": [
    {
     "name": "stdout",
     "output_type": "stream",
     "text": [
      "Enter the number : 567\n",
      "number of digit of  567 =  3\n"
     ]
    }
   ],
   "source": [
    "def func(n):\n",
    "    count=0\n",
    "    if(n==0):\n",
    "        count+=1\n",
    "    \n",
    "    while n>0:\n",
    "            count=count+1\n",
    "            n=n//10\n",
    "    if n<0:\n",
    "        n=-n\n",
    "        while n !=0:\n",
    "            count=count+1\n",
    "            n=n//10\n",
    "    return count\n",
    "k=int(input(\"Enter the number : \"))\n",
    "total=func(k)\n",
    "print(\"number of digit of \",k,\"= \",total)"
   ]
  },
  {
   "cell_type": "code",
   "execution_count": 7,
   "metadata": {},
   "outputs": [
    {
     "name": "stdout",
     "output_type": "stream",
     "text": [
      "enter the number : 9\n"
     ]
    },
    {
     "data": {
      "text/plain": [
       "362880"
      ]
     },
     "execution_count": 7,
     "metadata": {},
     "output_type": "execute_result"
    }
   ],
   "source": [
    "def fact(n):\n",
    "    if n>=0:\n",
    "        k=1\n",
    "        for i in range(1,n+1):\n",
    "            k=i*k\n",
    "        return k\n",
    "    else:\n",
    "        print(\"please enter only non negative number \")\n",
    "p=int(input(\"enter the number : \"))\n",
    "fact(p)"
   ]
  },
  {
   "cell_type": "code",
   "execution_count": 13,
   "metadata": {},
   "outputs": [
    {
     "name": "stdout",
     "output_type": "stream",
     "text": [
      "Enter the number : 456\n"
     ]
    },
    {
     "data": {
      "text/plain": [
       "654"
      ]
     },
     "execution_count": 13,
     "metadata": {},
     "output_type": "execute_result"
    }
   ],
   "source": [
    "def rev(n):\n",
    "    k=0\n",
    "    while n>0:\n",
    "        d=n%10\n",
    "        k=k*10+d\n",
    "        n=n//10\n",
    "    if n<0:\n",
    "        n=-n\n",
    "        while n>0:\n",
    "            d=n%10\n",
    "            k=k*10+d\n",
    "            n=n//10\n",
    "        k=-k\n",
    "    return k\n",
    "p=int(input(\"Enter the number : \"))\n",
    "rev(p)"
   ]
  },
  {
   "cell_type": "code",
   "execution_count": 17,
   "metadata": {},
   "outputs": [
    {
     "name": "stdout",
     "output_type": "stream",
     "text": [
      "Enter the number : 153\n"
     ]
    },
    {
     "data": {
      "text/plain": [
       "True"
      ]
     },
     "execution_count": 17,
     "metadata": {},
     "output_type": "execute_result"
    }
   ],
   "source": [
    "def arm(n):\n",
    "    k=n\n",
    "    b=0\n",
    "    while n>0:\n",
    "        d=n%10\n",
    "        b=b+d**3\n",
    "        n=n//10\n",
    "    if(k==b):\n",
    "            return True\n",
    "    elif k>=0 and k!=b:\n",
    "        return False\n",
    "    if(n<0):\n",
    "        print(\"please enter the valid number \")\n",
    "t=int(input(\"Enter the number : \"))\n",
    "arm(t)"
   ]
  }
 ],
 "metadata": {
  "kernelspec": {
   "display_name": "Python 3",
   "language": "python",
   "name": "python3"
  },
  "language_info": {
   "codemirror_mode": {
    "name": "ipython",
    "version": 3
   },
   "file_extension": ".py",
   "mimetype": "text/x-python",
   "name": "python",
   "nbconvert_exporter": "python",
   "pygments_lexer": "ipython3",
   "version": "3.8.5"
  }
 },
 "nbformat": 4,
 "nbformat_minor": 4
}
