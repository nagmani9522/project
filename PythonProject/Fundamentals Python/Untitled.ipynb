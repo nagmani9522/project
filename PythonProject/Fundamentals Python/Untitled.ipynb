{
 "cells": [
  {
   "cell_type": "code",
   "execution_count": 3,
   "metadata": {},
   "outputs": [
    {
     "name": "stdout",
     "output_type": "stream",
     "text": [
      "Enter the Number : 3\n",
      "3 is less than 5\n"
     ]
    }
   ],
   "source": [
    "n=int(input(\"Enter the Number : \"))\n",
    "if n<5:\n",
    "    print(n,\"is less than 5\");"
   ]
  },
  {
   "cell_type": "code",
   "execution_count": 4,
   "metadata": {},
   "outputs": [
    {
     "name": "stdout",
     "output_type": "stream",
     "text": [
      "Enter the Number : 45\n"
     ]
    }
   ],
   "source": [
    "n=int(input(\"Enter the Number : \"))\n",
    "if n<5:\n",
    "    print(n,\"is less than 5\");"
   ]
  },
  {
   "cell_type": "code",
   "execution_count": 7,
   "metadata": {},
   "outputs": [
    {
     "name": "stdout",
     "output_type": "stream",
     "text": [
      "Enter the Number : 2\n",
      "2 less than 5\n"
     ]
    }
   ],
   "source": [
    "n=int(input(\"Enter the Number : \"))\n",
    "if n<5:\n",
    "    print(n,\"less than 5\")\n",
    "elif n>5:\n",
    "    print(n,\"greater than 5\")\n",
    "else:\n",
    "    print(n,\"equal to 5\")"
   ]
  },
  {
   "cell_type": "code",
   "execution_count": 8,
   "metadata": {},
   "outputs": [
    {
     "name": "stdout",
     "output_type": "stream",
     "text": [
      "Enter the Number : 7\n",
      "7 greater than 5\n"
     ]
    }
   ],
   "source": [
    "n=int(input(\"Enter the Number : \"))\n",
    "if n<5:\n",
    "    print(n,\"less than 5\")\n",
    "elif n>5:\n",
    "    print(n,\"greater than 5\")\n",
    "else:\n",
    "    print(n,\"equal to 5\")"
   ]
  },
  {
   "cell_type": "code",
   "execution_count": 9,
   "metadata": {},
   "outputs": [
    {
     "name": "stdout",
     "output_type": "stream",
     "text": [
      "Enter the Number : 5\n",
      "5 is equal to 5\n"
     ]
    }
   ],
   "source": [
    "n=int(input(\"Enter the Number : \"))\n",
    "if n<5:\n",
    "    print(n,\"is less than 5\")\n",
    "elif n>5:\n",
    "    print(n,\"is greater than 5\")\n",
    "else:\n",
    "    print(n,\"is equal to 5\")"
   ]
  },
  {
   "cell_type": "code",
   "execution_count": 14,
   "metadata": {},
   "outputs": [
    {
     "name": "stdout",
     "output_type": "stream",
     "text": [
      "Enter the Number : 4\n",
      "4 is less than 5\n"
     ]
    }
   ],
   "source": [
    "n=int(input(\"Enter the Number : \"))\n",
    "if n<5:\n",
    "    print(n,\"is less than 5\")\n",
    "else:\n",
    "    print(n,\"is not less than 5\")"
   ]
  },
  {
   "cell_type": "code",
   "execution_count": 15,
   "metadata": {},
   "outputs": [
    {
     "name": "stdout",
     "output_type": "stream",
     "text": [
      "Enter the Number : 56\n",
      "56 is not less than 5\n"
     ]
    }
   ],
   "source": [
    "n=int(input(\"Enter the Number : \"))\n",
    "if n<5:\n",
    "    print(n,\"less than 5\")\n",
    "else:\n",
    "    print(n,\"is not less than 5\")"
   ]
  },
  {
   "cell_type": "code",
   "execution_count": 16,
   "metadata": {},
   "outputs": [
    {
     "name": "stdout",
     "output_type": "stream",
     "text": [
      "Enter your age = 23\n",
      "You are an Adult\n"
     ]
    }
   ],
   "source": [
    "a=int(input(\"Enter your age = \"))\n",
    "if a>=0 and a<=100 :\n",
    "    if a>=18:\n",
    "        print(\"You are an Adult\")\n",
    "    else:\n",
    "        print(\"You are not Adult\")\n",
    "else:\n",
    "    print(\"invalid age\")"
   ]
  },
  {
   "cell_type": "code",
   "execution_count": 17,
   "metadata": {},
   "outputs": [
    {
     "name": "stdout",
     "output_type": "stream",
     "text": [
      "Enter your age = 16\n",
      "You are not Adult\n"
     ]
    }
   ],
   "source": [
    "a=int(input(\"Enter your age = \"))\n",
    "if a>=0 and a<=100 :\n",
    "    if a>=18:\n",
    "        print(\"You are an Adult\")\n",
    "    else:\n",
    "        print(\"You are not Adult\")\n",
    "else:\n",
    "    print(\"invalid age\")"
   ]
  },
  {
   "cell_type": "code",
   "execution_count": 18,
   "metadata": {},
   "outputs": [
    {
     "name": "stdout",
     "output_type": "stream",
     "text": [
      "Enter your age = -45\n",
      "invalid age\n"
     ]
    }
   ],
   "source": [
    "a=int(input(\"Enter your age = \"))\n",
    "if a>=0 and a<=100 :\n",
    "    if a>=18:\n",
    "        print(\"You are an Adult\")\n",
    "    else:\n",
    "        print(\"You are not Adult\")\n",
    "else:\n",
    "    print(\"invalid age\")"
   ]
  },
  {
   "cell_type": "code",
   "execution_count": 24,
   "metadata": {},
   "outputs": [
    {
     "name": "stdout",
     "output_type": "stream",
     "text": [
      "Enter a number : 6\n",
      "6 is even\n"
     ]
    }
   ],
   "source": [
    "n=int(input(\"Enter a number : \"))\n",
    "if n%2==0:\n",
    "    print(n,\"is even\")\n",
    "else:\n",
    "    print(n,\"is odd\")"
   ]
  },
  {
   "cell_type": "code",
   "execution_count": 30,
   "metadata": {},
   "outputs": [
    {
     "name": "stdout",
     "output_type": "stream",
     "text": [
      "Enter a number : -0.0\n",
      "-0.0 is neighter positive nor negative\n"
     ]
    }
   ],
   "source": [
    "n=float(input(\"Enter a number : \"))\n",
    "if n>0:\n",
    "    print(n,\"is positive\")\n",
    "elif n<0:\n",
    "    print(n,\"is negative\")\n",
    "else:\n",
    "    print(n,\"is neighter positive nor negative\")"
   ]
  },
  {
   "cell_type": "code",
   "execution_count": 7,
   "metadata": {},
   "outputs": [
    {
     "name": "stdout",
     "output_type": "stream",
     "text": [
      "enter coefficient (x)2 : 1\n",
      "enter coefficient x : 1\n",
      "enter coefficient constant : -240\n",
      "one real root :  15.0\n",
      "other real root is :  -16.0\n"
     ]
    }
   ],
   "source": [
    "a=int(input(\"enter coefficient (x)2 : \"))\n",
    "b=int(input(\"enter coefficient x : \"))\n",
    "c=int(input(\"enter coefficient constant : \"))\n",
    "x=b**2-4*a*c;\n",
    "if x>0:\n",
    "    z=(-b+(x**(1/2)))/(2*a)\n",
    "    print(\"one real root : \",z)\n",
    "    z=(-b-(x**(1/2)))/(2*a)\n",
    "    print(\"other real root is : \",z)\n",
    "elif x==0:\n",
    "    z=(-b/(2*a))\n",
    "    print(\"only one real root\",z)\n",
    "else:\n",
    "    print(\"no real root\")"
   ]
  },
  {
   "cell_type": "code",
   "execution_count": 18,
   "metadata": {},
   "outputs": [
    {
     "name": "stdout",
     "output_type": "stream",
     "text": [
      "Enter The sub 1 marks : 3\n",
      "Enter The sub 2 marks : 0\n",
      "Enter The sub 3 marks : 6\n",
      "Enter The sub 4 marks : 9\n",
      "Enter The sub 5 marks : 3\n",
      "Fail\n"
     ]
    }
   ],
   "source": [
    "s1=float(input(\"Enter The sub 1 marks : \"))\n",
    "s2=float(input(\"Enter The sub 2 marks : \"))\n",
    "s3=float(input(\"Enter The sub 3 marks : \"))\n",
    "s4=float(input(\"Enter The sub 4 marks : \"))\n",
    "s5=float(input(\"Enter The sub 5 marks : \"))\n",
    "if(0<=s1<=100 and 0<=s2<=100 and 0<=s3<=100 and 0<=s4<=100 and 0<=s5<=100):\n",
    "    total=s1+s2+s3+s4+s5\n",
    "    per=total/5\n",
    "    if per>=60:\n",
    "        print(\"First division\")\n",
    "    elif 45<=per<60:\n",
    "        print(\"Second division\")\n",
    "    elif 33<=per<45:\n",
    "        print(\"Third division\")\n",
    "    else:\n",
    "        print(\"Fail\")\n",
    "else:\n",
    "    print(\"Invalid Number\")"
   ]
  },
  {
   "cell_type": "code",
   "execution_count": 22,
   "metadata": {},
   "outputs": [
    {
     "name": "stdout",
     "output_type": "stream",
     "text": [
      "Enter the Number 16\n",
      "16 is not divisible by 3 and 5\n"
     ]
    }
   ],
   "source": [
    "n=int(input(\"Enter the Number \"))\n",
    "if n%5==0:\n",
    "    if n%3==0:\n",
    "        print(n,\"is divisible by 3 and 5\")\n",
    "    else:\n",
    "        print(n,\"is  divisible by 5\")\n",
    "else:\n",
    "    if n%3==0:\n",
    "        print(n,\"is divisible by 3\")\n",
    "    else:\n",
    "        print(n,\"is not divisible by 3 and 5\")"
   ]
  },
  {
   "cell_type": "code",
   "execution_count": 5,
   "metadata": {},
   "outputs": [
    {
     "name": "stdout",
     "output_type": "stream",
     "text": [
      "1        2        3        4        5        "
     ]
    }
   ],
   "source": [
    "for number in range(1,6):\n",
    "    print(number,end=\"        \")"
   ]
  },
  {
   "cell_type": "code",
   "execution_count": 10,
   "metadata": {},
   "outputs": [
    {
     "name": "stdout",
     "output_type": "stream",
     "text": [
      "Enter the value of n : 10\n",
      "First  10  natural number\n",
      "1 2 3 4 5 6 7 8 9 10 "
     ]
    }
   ],
   "source": [
    "n=int(input(\"Enter the value of n : \"))\n",
    "print(\"First \",n,\" natural number\")\n",
    "for i in range(1,n+1):\n",
    "    print(i,end=\" \")"
   ]
  },
  {
   "cell_type": "code",
   "execution_count": 5,
   "metadata": {},
   "outputs": [
    {
     "name": "stdout",
     "output_type": "stream",
     "text": [
      "Enter the number : 423\n",
      "324"
     ]
    }
   ],
   "source": [
    "n=int(input(\"Enter the number : \"))\n",
    "while n!=0:\n",
    "    d=n%10\n",
    "    print(d,end=\"\")\n",
    "    n//=10"
   ]
  },
  {
   "cell_type": "code",
   "execution_count": 12,
   "metadata": {},
   "outputs": [
    {
     "name": "stdout",
     "output_type": "stream",
     "text": [
      "1\n",
      "2\n"
     ]
    }
   ],
   "source": [
    "for i in range(1,6):\n",
    "    if i==3:\n",
    "        break\n",
    "    print(i)"
   ]
  },
  {
   "cell_type": "code",
   "execution_count": 13,
   "metadata": {},
   "outputs": [
    {
     "name": "stdout",
     "output_type": "stream",
     "text": [
      "1\n",
      "2\n",
      "4\n",
      "5\n"
     ]
    }
   ],
   "source": [
    "for i in range(1,6):\n",
    "    if i==3:\n",
    "        continue\n",
    "    print(i)"
   ]
  },
  {
   "cell_type": "code",
   "execution_count": 15,
   "metadata": {},
   "outputs": [
    {
     "name": "stdout",
     "output_type": "stream",
     "text": [
      "1\n",
      "2\n",
      "3\n",
      "out of loop\n"
     ]
    }
   ],
   "source": [
    "for i in range(1,4):\n",
    "    print(i)\n",
    "else:\n",
    "    print(\"out of loop\")"
   ]
  },
  {
   "cell_type": "code",
   "execution_count": 16,
   "metadata": {},
   "outputs": [
    {
     "name": "stdout",
     "output_type": "stream",
     "text": [
      "1\n",
      "2\n",
      "3\n",
      "out of loop\n"
     ]
    }
   ],
   "source": [
    "for i in range(1,4):\n",
    "    print(i)\n",
    "print(\"out of loop\")"
   ]
  },
  {
   "cell_type": "code",
   "execution_count": 22,
   "metadata": {},
   "outputs": [
    {
     "name": "stdout",
     "output_type": "stream",
     "text": [
      "1\n",
      "2\n",
      "4\n",
      "5\n",
      "out of loop\n"
     ]
    }
   ],
   "source": [
    "for i in range(1,6):\n",
    "    if i==3:\n",
    "        continue\n",
    "    print(i)\n",
    "else:\n",
    "        print(\"out of loop\")"
   ]
  },
  {
   "cell_type": "code",
   "execution_count": 29,
   "metadata": {},
   "outputs": [
    {
     "name": "stdout",
     "output_type": "stream",
     "text": [
      "Enter a number : 5\n",
      "5 is prime number\n"
     ]
    }
   ],
   "source": [
    "n=int(input(\"Enter a number : \"))\n",
    "for i in range(2,n):\n",
    "    if n%i==0:\n",
    "        print(n,\"is not a prime number\")\n",
    "        break\n",
    "else:\n",
    "    print(n,\"is prime number\")"
   ]
  },
  {
   "cell_type": "code",
   "execution_count": 30,
   "metadata": {},
   "outputs": [
    {
     "name": "stdout",
     "output_type": "stream",
     "text": [
      "Enter a number : 9\n",
      "9 is not a prime number\n"
     ]
    }
   ],
   "source": [
    "n=int(input(\"Enter a number : \"))\n",
    "for i in range(2,n):\n",
    "    if n%i==0:\n",
    "        print(n,\"is not a prime number\")\n",
    "        break\n",
    "else:\n",
    "    print(n,\"is prime number\")"
   ]
  },
  {
   "cell_type": "code",
   "execution_count": 35,
   "metadata": {},
   "outputs": [
    {
     "name": "stdout",
     "output_type": "stream",
     "text": [
      "1 2 3 4 5 6 7 8 9 10 \n",
      "2 4 6 8 10 12 14 16 18 20 \n",
      "3 6 9 12 15 18 21 24 27 30 \n",
      "4 8 12 16 20 24 28 32 36 40 \n",
      "5 10 15 20 25 30 35 40 45 50 \n",
      "6 12 18 24 30 36 42 48 54 60 \n",
      "7 14 21 28 35 42 49 56 63 70 \n",
      "8 16 24 32 40 48 56 64 72 80 \n",
      "9 18 27 36 45 54 63 72 81 90 \n",
      "10 20 30 40 50 60 70 80 90 100 \n"
     ]
    }
   ],
   "source": [
    "for i in range(1,11):\n",
    "    for j in range(1,11):\n",
    "        k=i*j\n",
    "        print(k,end=\" \")\n",
    "    print()"
   ]
  },
  {
   "cell_type": "code",
   "execution_count": 41,
   "metadata": {},
   "outputs": [
    {
     "name": "stdout",
     "output_type": "stream",
     "text": [
      "Enter the number : 9\n",
      "sum of  9 natural number 45\n"
     ]
    }
   ],
   "source": [
    "n=int(input(\"Enter the number : \"))\n",
    "total=0\n",
    "for i in range(1,n+1):\n",
    "    total+=i\n",
    "else: \n",
    "    print(\"sum of \",n,\"natural number\",total)"
   ]
  },
  {
   "cell_type": "code",
   "execution_count": 47,
   "metadata": {},
   "outputs": [
    {
     "name": "stdout",
     "output_type": "stream",
     "text": [
      "Enter the number : 9\n",
      "9\n",
      "18\n",
      "27\n",
      "36\n",
      "45\n",
      "54\n",
      "63\n",
      "72\n",
      "81\n",
      "90\n"
     ]
    }
   ],
   "source": [
    "n=int(input(\"Enter the number : \"))\n",
    "for i in range(1,11):\n",
    "    if(n==0):\n",
    "        print(n)\n",
    "        break\n",
    "    k=i*n\n",
    "    print(k)"
   ]
  },
  {
   "cell_type": "code",
   "execution_count": 68,
   "metadata": {},
   "outputs": [
    {
     "name": "stdout",
     "output_type": "stream",
     "text": [
      "Enter the number : 6\n",
      "factorial of a number 6  :  720\n"
     ]
    }
   ],
   "source": [
    "n=int(input(\"Enter the number : \"))\n",
    "k=1\n",
    "for i in range(1,n+1):\n",
    "    k=i*k\n",
    "else:\n",
    "    print(\"factorial of a number\",n,\" : \",k)"
   ]
  },
  {
   "cell_type": "code",
   "execution_count": 31,
   "metadata": {},
   "outputs": [
    {
     "name": "stdout",
     "output_type": "stream",
     "text": [
      "Enter the number : 3\n",
      "1 1 2 "
     ]
    }
   ],
   "source": [
    "n=int(input(\"Enter the number : \"))\n",
    "n1,n2=0,1\n",
    "for i in range(1,n+1):\n",
    "    if(i==1):\n",
    "        print(i,end=\" \")\n",
    "    if i>1:\n",
    "        fn=n1+n2;\n",
    "        print(fn,end=\" \")\n",
    "        n1=n2\n",
    "        n2=fn\n",
    "    "
   ]
  },
  {
   "cell_type": "code",
   "execution_count": 4,
   "metadata": {},
   "outputs": [
    {
     "name": "stdout",
     "output_type": "stream",
     "text": [
      "Enter the number : 678\n",
      "3\n"
     ]
    }
   ],
   "source": [
    "n=int(input(\"Enter the number : \"))\n",
    "count=0\n",
    "while n !=0:\n",
    "    n=n//10\n",
    "    count=count+1\n",
    "print(count)\n"
   ]
  },
  {
   "cell_type": "code",
   "execution_count": null,
   "metadata": {},
   "outputs": [],
   "source": [
    "n=int(input(\"Enter the number : \"))\n",
    "count=0\n",
    "while n>0:\n",
    "    n=n//10\n",
    "    count=count+1\n",
    "print(count)\n",
    "\n"
   ]
  },
  {
   "cell_type": "code",
   "execution_count": null,
   "metadata": {},
   "outputs": [],
   "source": []
  },
  {
   "cell_type": "code",
   "execution_count": null,
   "metadata": {},
   "outputs": [],
   "source": []
  }
 ],
 "metadata": {
  "kernelspec": {
   "display_name": "Python 3",
   "language": "python",
   "name": "python3"
  },
  "language_info": {
   "codemirror_mode": {
    "name": "ipython",
    "version": 3
   },
   "file_extension": ".py",
   "mimetype": "text/x-python",
   "name": "python",
   "nbconvert_exporter": "python",
   "pygments_lexer": "ipython3",
   "version": "3.8.5"
  }
 },
 "nbformat": 4,
 "nbformat_minor": 4
}
