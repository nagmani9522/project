{
 "cells": [
  {
   "cell_type": "code",
   "execution_count": 11,
   "metadata": {},
   "outputs": [
    {
     "name": "stdout",
     "output_type": "stream",
     "text": [
      "Enter the number : 87\n",
      "2\n"
     ]
    }
   ],
   "source": [
    "n=int(input(\"Enter the number : \"))\n",
    "count=0\n",
    "while n>0:\n",
    "    n=n//10\n",
    "    count=count+1\n",
    "if n<0:\n",
    "    n=-n\n",
    "    while n>0:\n",
    "        n=n//10\n",
    "        count=count+1\n",
    "print(count)\n"
   ]
  },
  {
   "cell_type": "code",
   "execution_count": 5,
   "metadata": {},
   "outputs": [
    {
     "name": "stdout",
     "output_type": "stream",
     "text": [
      "Enter the number : 678\n",
      "21\n"
     ]
    }
   ],
   "source": [
    "n=int(input(\"Enter the number : \"))\n",
    "count=0\n",
    "while n>0:\n",
    "    d=n%10\n",
    "    count=count+d\n",
    "    n//=10\n",
    "if n<0:\n",
    "    n=-n\n",
    "    while n>0:\n",
    "        d=n%10\n",
    "        count=count+d\n",
    "        n//=10\n",
    "print(count)\n"
   ]
  },
  {
   "cell_type": "code",
   "execution_count": 12,
   "metadata": {},
   "outputs": [
    {
     "name": "stdout",
     "output_type": "stream",
     "text": [
      "Enter the number : -678\n",
      "-876"
     ]
    }
   ],
   "source": [
    "n=int(input(\"Enter the number : \"))\n",
    "if n==0:\n",
    "    print(n)\n",
    "while n>0:\n",
    "    d=n%10\n",
    "    print(d,end=\"\")\n",
    "    n//=10\n",
    "if n<0:\n",
    "    n=-n\n",
    "    print(\"-\",end=\"\")\n",
    "    while n>0:\n",
    "        d=n%10\n",
    "        print(d,end=\"\")\n",
    "        n//=10\n"
   ]
  },
  {
   "cell_type": "code",
   "execution_count": 8,
   "metadata": {},
   "outputs": [
    {
     "name": "stdout",
     "output_type": "stream",
     "text": [
      "Enter the number : 11211\n",
      "number is palindrome\n"
     ]
    }
   ],
   "source": [
    "n=int(input(\"Enter the number : \"))\n",
    "count=0\n",
    "k=n\n",
    "while n>0:\n",
    "    d=n%10\n",
    "    count=count*10+d\n",
    "    n//=10\n",
    "if n<0:\n",
    "    n=-n\n",
    "    while n>0:\n",
    "        d=n%10\n",
    "        count=count*10+d\n",
    "        n//=10\n",
    "    count=-count\n",
    "if(count==k):\n",
    "    print(\"number is palindrome\")\n",
    "else:\n",
    "    print(\"number is not palindrome\")\n"
   ]
  },
  {
   "cell_type": "code",
   "execution_count": 19,
   "metadata": {},
   "outputs": [
    {
     "name": "stdout",
     "output_type": "stream",
     "text": [
      "Enter the number : 407\n",
      "number is Armstrong\n"
     ]
    }
   ],
   "source": [
    "n=int(input(\"Enter the number : \"))\n",
    "count=0\n",
    "k=n\n",
    "while n>0:\n",
    "    d=n%10\n",
    "    count=count+d**3\n",
    "    n//=10\n",
    "if n<0:\n",
    "    n=-n\n",
    "    while n>0:\n",
    "        d=n%10\n",
    "        count=count+d**3\n",
    "        n//=10\n",
    "    count=-count\n",
    "if(count==k):\n",
    "    print(\"number is Armstrong\")\n",
    "else:\n",
    "    print(\"number is not Armstrong\")\n"
   ]
  },
  {
   "cell_type": "code",
   "execution_count": 2,
   "metadata": {},
   "outputs": [
    {
     "name": "stdout",
     "output_type": "stream",
     "text": [
      "Enter the number : 7\n",
      "7 is prime\n"
     ]
    }
   ],
   "source": [
    "n=int(input(\"Enter the number : \"))\n",
    "for i in range(2,n):\n",
    "    if n%i==0:\n",
    "        print(n,\" is not prime\")\n",
    "        break\n",
    "else:\n",
    "     print(n,\"is prime\")"
   ]
  },
  {
   "cell_type": "code",
   "execution_count": 12,
   "metadata": {},
   "outputs": [
    {
     "name": "stdout",
     "output_type": "stream",
     "text": [
      "2 3 5 7 11 13 17 19 23 29 31 37 41 43 47 53 59 61 67 71 73 79 83 89 97 "
     ]
    }
   ],
   "source": [
    "for i in range(2,100):\n",
    "    for j in range(2,i):\n",
    "        if i%j==0:\n",
    "            break\n",
    "    else: \n",
    "        print(i,end=\" \")\n",
    "        "
   ]
  },
  {
   "cell_type": "code",
   "execution_count": 2,
   "metadata": {},
   "outputs": [
    {
     "name": "stdout",
     "output_type": "stream",
     "text": [
      "101 111 121 131 141 151 161 171 181 191 "
     ]
    }
   ],
   "source": [
    "for i in range(100,200):\n",
    "    j=i\n",
    "    count=0\n",
    "    while j>0:\n",
    "        d=j%10\n",
    "        count=count*10+d\n",
    "        j//=10\n",
    "        if(count==i):\n",
    "            print(i,end=\" \")\n"
   ]
  },
  {
   "cell_type": "code",
   "execution_count": 27,
   "metadata": {},
   "outputs": [
    {
     "name": "stdout",
     "output_type": "stream",
     "text": [
      "Hello\n",
      "Hii\n",
      "Bye\n",
      "Hello\n",
      "Hii\n",
      "Bye\n",
      "welcome\n",
      "Hello\n",
      "Hii\n",
      "Bye\n",
      "Incapp\n",
      "Hello\n",
      "Hii\n",
      "Bye\n",
      "Hello\n",
      "Hii\n",
      "Bye\n",
      "Hello\n",
      "Hii\n",
      "Bye\n"
     ]
    }
   ],
   "source": [
    "def print_message():\n",
    "    print(\"Hello\")\n",
    "    print(\"Hii\")\n",
    "    print(\"Bye\")\n",
    "print_message()\n",
    "print_message()\n",
    "print(\"welcome\")\n",
    "print_message()\n",
    "print(\"Incapp\")\n",
    "print_message()\n",
    "print_message()\n",
    "print_message()"
   ]
  },
  {
   "cell_type": "code",
   "execution_count": 34,
   "metadata": {},
   "outputs": [
    {
     "name": "stdout",
     "output_type": "stream",
     "text": [
      "Enter First number :7\n",
      "Enter Second number :8\n",
      "addition 15\n"
     ]
    }
   ],
   "source": [
    "def add():\n",
    "    n1=int(input(\"Enter First number :\"))\n",
    "    n2=int(input(\"Enter Second number :\"))\n",
    "    s=n1+n2\n",
    "    print(\"addition\",s)\n",
    "    \n",
    "add()"
   ]
  },
  {
   "cell_type": "code",
   "execution_count": 38,
   "metadata": {},
   "outputs": [
    {
     "name": "stdout",
     "output_type": "stream",
     "text": [
      "Enter the number : 76\n",
      "Enter the the number7\n",
      "Addition 83\n"
     ]
    }
   ],
   "source": [
    "def add(n1,n2):\n",
    "    s=n1+n2\n",
    "    print(\"Addition\",s)\n",
    "n1=int(input(\"Enter the number : \"))\n",
    "n2=int(input(\"Enter the the number\"))\n",
    "add(n1,n2)"
   ]
  },
  {
   "cell_type": "code",
   "execution_count": 59,
   "metadata": {},
   "outputs": [
    {
     "name": "stdout",
     "output_type": "stream",
     "text": [
      "Enter First number :12\n",
      "Enter Second number :23\n",
      "Addition 35\n"
     ]
    }
   ],
   "source": [
    "def add():\n",
    "    nt=int(input(\"Enter First number :\"))\n",
    "    nu=int(input(\"Enter Second number :\"))\n",
    "    k=nt+nu\n",
    "    return k\n",
    "t=add()\n",
    "print(\"Addition\",t)"
   ]
  },
  {
   "cell_type": "code",
   "execution_count": 42,
   "metadata": {},
   "outputs": [
    {
     "name": "stdout",
     "output_type": "stream",
     "text": [
      "Enter First number :34\n",
      "Enter Second number :43\n"
     ]
    },
    {
     "data": {
      "text/plain": [
       "77"
      ]
     },
     "execution_count": 42,
     "metadata": {},
     "output_type": "execute_result"
    }
   ],
   "source": [
    "def add():\n",
    "    n1=int(input(\"Enter First number :\"))\n",
    "    n2=int(input(\"Enter Second number :\"))\n",
    "    s=n1+n2\n",
    "    return s\n",
    "add()"
   ]
  },
  {
   "cell_type": "code",
   "execution_count": 61,
   "metadata": {},
   "outputs": [
    {
     "name": "stdout",
     "output_type": "stream",
     "text": [
      "Enter first value : 12\n",
      "Enter first value : 23\n",
      "Addition 35\n"
     ]
    }
   ],
   "source": [
    "def add(n1,n2):\n",
    "    s=n1+n2\n",
    "    return s\n",
    "n1=int(input(\"Enter first value : \"))\n",
    "n2=int(input(\"Enter first value : \"))\n",
    "s=add(n1,n2)   \n",
    "print(\"Addition\",s)"
   ]
  },
  {
   "cell_type": "code",
   "execution_count": 62,
   "metadata": {},
   "outputs": [
    {
     "name": "stdout",
     "output_type": "stream",
     "text": [
      "Addition 13\n",
      "Addition 30\n"
     ]
    }
   ],
   "source": [
    "def fun(n1,n2=3):\n",
    "    s=n1+n2\n",
    "    return s\n",
    "print(\"Addition\",fun(10))\n",
    "print(\"Addition\",fun(10,20))"
   ]
  },
  {
   "cell_type": "code",
   "execution_count": 72,
   "metadata": {},
   "outputs": [
    {
     "name": "stdout",
     "output_type": "stream",
     "text": [
      "Name vijay\n",
      "Age 23\n",
      "Name 23\n",
      "Age vijay\n"
     ]
    }
   ],
   "source": [
    "def display(name,age):\n",
    "    print(\"Name\",name)\n",
    "    print(\"Age\",age)\n",
    "display(name=\"vijay\",age=23)\n",
    "display(23,\"vijay\")"
   ]
  },
  {
   "cell_type": "code",
   "execution_count": 75,
   "metadata": {},
   "outputs": [
    {
     "name": "stdout",
     "output_type": "stream",
     "text": [
      "hello Nagmani How are you \n",
      "10 20 30 \n"
     ]
    }
   ],
   "source": [
    "def nagmani(*args):\n",
    "    for arg in args:\n",
    "        print(arg,end=\" \")\n",
    "    print()\n",
    "nagmani(\"hello\",\"Nagmani\",\"How\",\"are\",\"you\")\n",
    "nagmani(10,20,30)"
   ]
  },
  {
   "cell_type": "code",
   "execution_count": 77,
   "metadata": {},
   "outputs": [
    {
     "name": "stdout",
     "output_type": "stream",
     "text": [
      "2\n",
      "2\n",
      "3\n",
      "2\n"
     ]
    }
   ],
   "source": [
    "a=2\n",
    "print(a)\n",
    "def display():\n",
    "    b=3\n",
    "    print(a)\n",
    "    print(b)\n",
    "display()\n",
    "print(a)"
   ]
  },
  {
   "cell_type": "code",
   "execution_count": 78,
   "metadata": {},
   "outputs": [
    {
     "name": "stdout",
     "output_type": "stream",
     "text": [
      "2\n",
      "5\n",
      "2\n",
      "3\n",
      "2\n"
     ]
    }
   ],
   "source": [
    "a,b=2,5\n",
    "print(a)\n",
    "print(b)\n",
    "def display():\n",
    "    b=3\n",
    "    print(a)\n",
    "    print(b)\n",
    "display()\n",
    "print(a)"
   ]
  }
 ],
 "metadata": {
  "kernelspec": {
   "display_name": "Python 3",
   "language": "python",
   "name": "python3"
  },
  "language_info": {
   "codemirror_mode": {
    "name": "ipython",
    "version": 3
   },
   "file_extension": ".py",
   "mimetype": "text/x-python",
   "name": "python",
   "nbconvert_exporter": "python",
   "pygments_lexer": "ipython3",
   "version": "3.8.5"
  }
 },
 "nbformat": 4,
 "nbformat_minor": 4
}
