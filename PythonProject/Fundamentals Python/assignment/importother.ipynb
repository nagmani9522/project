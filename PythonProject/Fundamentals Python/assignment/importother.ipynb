{
 "cells": [
  {
   "cell_type": "code",
   "execution_count": 2,
   "metadata": {},
   "outputs": [
    {
     "name": "stdout",
     "output_type": "stream",
     "text": [
      "Addition: 30\n",
      "Subtraction: 10\n",
      "Multiolication: 200\n",
      "Division: 2.0\n"
     ]
    }
   ],
   "source": [
    "from sys import path\n",
    "path.append('E:\\python module')\n",
    "from erithmetic import *\n",
    "print(\"Addition:\",add(10,20))\n",
    "print(\"Subtraction:\",sub(20,10))\n",
    "print(\"Multiolication:\",mul(20,10))\n",
    "print(\"Division:\",div(20,10))"
   ]
  },
  {
   "cell_type": "code",
   "execution_count": null,
   "metadata": {},
   "outputs": [],
   "source": []
  }
 ],
 "metadata": {
  "kernelspec": {
   "display_name": "Python 3",
   "language": "python",
   "name": "python3"
  },
  "language_info": {
   "codemirror_mode": {
    "name": "ipython",
    "version": 3
   },
   "file_extension": ".py",
   "mimetype": "text/x-python",
   "name": "python",
   "nbconvert_exporter": "python",
   "pygments_lexer": "ipython3",
   "version": "3.8.5"
  }
 },
 "nbformat": 4,
 "nbformat_minor": 4
}
