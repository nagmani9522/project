{
 "cells": [
  {
   "cell_type": "code",
   "execution_count": 1,
   "metadata": {},
   "outputs": [
    {
     "name": "stdout",
     "output_type": "stream",
     "text": [
      "30\n",
      "-10\n",
      "200\n",
      "0.5\n",
      "25\n"
     ]
    }
   ],
   "source": [
    "from myfirstpackage.myfirstmodule import*\n",
    "from mysecondpackage.mysecondmodule import*\n",
    "from mysecondpackage.mysubpackage.mysubmodule import *\n",
    "print(add(10,20))\n",
    "print(sub(10,20))\n",
    "print(mul(10,20))\n",
    "print(div(10,20))\n",
    "print(square(5))\n"
   ]
  }
 ],
 "metadata": {
  "kernelspec": {
   "display_name": "Python 3",
   "language": "python",
   "name": "python3"
  },
  "language_info": {
   "codemirror_mode": {
    "name": "ipython",
    "version": 3
   },
   "file_extension": ".py",
   "mimetype": "text/x-python",
   "name": "python",
   "nbconvert_exporter": "python",
   "pygments_lexer": "ipython3",
   "version": "3.8.5"
  }
 },
 "nbformat": 4,
 "nbformat_minor": 4
}
